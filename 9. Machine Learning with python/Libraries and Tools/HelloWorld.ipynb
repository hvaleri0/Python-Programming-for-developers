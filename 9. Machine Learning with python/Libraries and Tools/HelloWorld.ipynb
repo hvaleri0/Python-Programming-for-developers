{
 "cells": [
  {
   "cell_type": "code",
   "execution_count": 20,
   "metadata": {},
   "outputs": [
    {
     "data": {
      "text/plain": [
       "array(['HipHop', 'Dance'], dtype=object)"
      ]
     },
     "execution_count": 20,
     "metadata": {},
     "output_type": "execute_result"
    }
   ],
   "source": [
    "import pandas as pd\n",
    "from sklearn.tree import DecisionTreeClassifier\n",
    "\n",
    "#1. Importing the data\n",
    "#2. Clean the Data (Not required)\n",
    "music_data=pd.read_csv('music.csv')\n",
    "\n",
    "#3. Splitting the data into Training/Test Set(not required) \n",
    "X = music_data.drop(columns=['genre']) #input set\n",
    "y = music_data['genre'] #output set\n",
    "\n",
    "#4. Create a model\n",
    "model = DecisionTreeClassifier()\n",
    "\n",
    "#5. Train the model\n",
    "model.fit(X,y)\n",
    "\n",
    "#6. Make Prediction\n",
    "predictions =model.predict([ [21,1],[22,0] ]) # what does a 21 male and 22 female like?\n",
    "predictions"
   ]
  },
  {
   "cell_type": "code",
   "execution_count": null,
   "metadata": {},
   "outputs": [],
   "source": []
  }
 ],
 "metadata": {
  "kernelspec": {
   "display_name": "Python 3",
   "language": "python",
   "name": "python3"
  },
  "language_info": {
   "codemirror_mode": {
    "name": "ipython",
    "version": 3
   },
   "file_extension": ".py",
   "mimetype": "text/x-python",
   "name": "python",
   "nbconvert_exporter": "python",
   "pygments_lexer": "ipython3",
   "version": "3.8.5"
  }
 },
 "nbformat": 4,
 "nbformat_minor": 4
}
