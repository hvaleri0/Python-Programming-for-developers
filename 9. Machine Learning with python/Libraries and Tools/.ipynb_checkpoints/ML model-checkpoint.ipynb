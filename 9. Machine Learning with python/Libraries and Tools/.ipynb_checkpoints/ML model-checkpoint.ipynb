{
 "cells": [
  {
   "cell_type": "code",
   "execution_count": 50,
   "metadata": {},
   "outputs": [
    {
     "data": {
      "text/plain": [
       "1.0"
      ]
     },
     "execution_count": 50,
     "metadata": {},
     "output_type": "execute_result"
    }
   ],
   "source": [
    "import pandas as pd\n",
    "from sklearn.tree import DecisionTreeClassifier # model ML Algorith\n",
    "from sklearn.model_selection import train_test_split # split the data\n",
    "from sklearn.metrics import accuracy_score # calculate accuracy\n",
    "\n",
    "#1. Importing the data\n",
    "#2. Clean the Data (Not required)\n",
    "music_data=pd.read_csv('music.csv')\n",
    "\n",
    "#3. Splitting the data into Training/Test Set\n",
    "X = music_data.drop(columns=['genre']) #input set\n",
    "y = music_data['genre'] #output set\n",
    "X_train, X_test, y_train, y_test = train_test_split(X,y, test_size=0.8)\n",
    "\n",
    "#4. Create a model\n",
    "model = DecisionTreeClassifier()\n",
    "\n",
    "#5. Train the model\n",
    "model.fit(X_train,y_train) # Pass only the training variable\n",
    "\n",
    "#6. Make Prediction\n",
    "predictions = model.predict(X_test) # Pass only the test data\n",
    "predictions\n",
    "\n",
    "#7. Evaluate and improve\n",
    "score = accuracy_score(y_test, predictions)\n",
    "score"
   ]
  },
  {
   "cell_type": "code",
   "execution_count": null,
   "metadata": {},
   "outputs": [],
   "source": []
  }
 ],
 "metadata": {
  "kernelspec": {
   "display_name": "Python 3",
   "language": "python",
   "name": "python3"
  },
  "language_info": {
   "codemirror_mode": {
    "name": "ipython",
    "version": 3
   },
   "file_extension": ".py",
   "mimetype": "text/x-python",
   "name": "python",
   "nbconvert_exporter": "python",
   "pygments_lexer": "ipython3",
   "version": "3.8.5"
  }
 },
 "nbformat": 4,
 "nbformat_minor": 4
}
